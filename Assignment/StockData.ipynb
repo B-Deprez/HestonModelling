{
 "cells": [
  {
   "cell_type": "markdown",
   "metadata": {},
   "source": [
    "# Python Code "
   ]
  },
  {
   "cell_type": "markdown",
   "metadata": {},
   "source": [
    "In this notebook, the data for the OTM call and put options are taken from the web, and combined in one Excel file.\n",
    "\n",
    "First of, the necessary packages are imported and the stock we are interested is loaded."
   ]
  },
  {
   "cell_type": "code",
   "execution_count": null,
   "metadata": {},
   "outputs": [],
   "source": [
    "import yfinance as yf\n",
    "import datetime as dt\n",
    "import pandas as pd\n",
    "\n",
    "chev = yf.Ticker(\"CVX\")"
   ]
  },
  {
   "cell_type": "code",
   "execution_count": 2,
   "metadata": {},
   "outputs": [],
   "source": [
    "dates = chev.options # The dates for which there are options (the different maturities)"
   ]
  },
  {
   "cell_type": "code",
   "execution_count": 3,
   "metadata": {},
   "outputs": [],
   "source": [
    "df_all = pd.DataFrame() #Empty dataframe that will be used for all different strikes and maturities"
   ]
  },
  {
   "cell_type": "markdown",
   "metadata": {},
   "source": [
    "For both the call and put options, we only select the ones that are out-the-money. \n",
    "\n",
    "The time to maturity is calculated in days. \n",
    "\n",
    "Call options are indicated using a 0, and puts using a 1 in the database. \n",
    "\n",
    "The prices is the average of the bid and ask price. "
   ]
  },
  {
   "cell_type": "code",
   "execution_count": 4,
   "metadata": {},
   "outputs": [],
   "source": [
    "for date in dates:\n",
    "    opt = chev.option_chain(date)\n",
    "    df_calls = opt.calls\n",
    "    df_calls_OTM = df_calls[df_calls['inTheMoney']==False]\n",
    "    df_calls_OTM = df_calls_OTM[['strike', 'bid', 'ask']]\n",
    "    today = dt.date(2020,4,28)\n",
    "    T = date.split('-')\n",
    "    strike = dt.date(int(T[0]), int(T[1]), int(T[2]))\n",
    "    T = strike-today\n",
    "    df_calls_OTM['T'] = T.days\n",
    "    df_calls_OTM['P_C_flag'] = 0\n",
    "    df_calls_OTM['Price'] = (df_calls_OTM['bid']+df_calls_OTM['ask'])/2\n",
    "    \n",
    "    df_puts = opt.puts\n",
    "    df_puts_OTM = df_puts[df_puts['inTheMoney']==False]\n",
    "    df_puts_OTM = df_puts_OTM[['strike', 'bid', 'ask']]\n",
    "    df_puts_OTM['T'] = T.days\n",
    "    df_puts_OTM['P_C_flag'] = 1\n",
    "    df_puts_OTM['Price'] = (df_puts_OTM['bid']+df_puts_OTM['ask'])/2\n",
    "    \n",
    "    df = pd.concat([df_puts_OTM, df_calls_OTM])\n",
    "    df_all = pd.concat([df_all, df])"
   ]
  },
  {
   "cell_type": "code",
   "execution_count": 5,
   "metadata": {},
   "outputs": [],
   "source": [
    "df_all.to_excel('Chevron.xlsx', index= False)"
   ]
  },
  {
   "cell_type": "code",
   "execution_count": null,
   "metadata": {},
   "outputs": [],
   "source": []
  }
 ],
 "metadata": {
  "kernelspec": {
   "display_name": "Python 3",
   "language": "python",
   "name": "python3"
  },
  "language_info": {
   "codemirror_mode": {
    "name": "ipython",
    "version": 3
   },
   "file_extension": ".py",
   "mimetype": "text/x-python",
   "name": "python",
   "nbconvert_exporter": "python",
   "pygments_lexer": "ipython3",
   "version": "3.7.4"
  }
 },
 "nbformat": 4,
 "nbformat_minor": 2
}
